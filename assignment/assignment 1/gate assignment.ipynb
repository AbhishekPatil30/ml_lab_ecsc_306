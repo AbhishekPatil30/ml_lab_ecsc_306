{
 "cells": [
  {
   "cell_type": "markdown",
   "metadata": {},
   "source": [
    "#######\n",
    "Implementaion of Logic Gates using Perceptron\n",
    "\n",
    "Logic Gates to implement for 3 i/p variables.\n",
    "\n",
    "    OR\n",
    "    NOT\n",
    "    XOR\n",
    "    XNOR\n",
    "    NAND\n",
    "    NOR\n",
    "    AND\n",
    "\n",
    "Perceptron model function\n",
    "$$ z = \\sum_{i=1}^m(w_i * x_i) +b $$\n",
    "\n",
    "Sigmoid Function\n",
    "$$ f(z) = \\frac{1}{1 + e^{-z}} $$\n",
    "\n",
    "Part 1. Write a tensorflow program to implement a perceptron using functions described above for AND , OR and NAND logic gates. Choose weights and bias values accordingly.\n",
    "\n"
   ]
  },
  {
   "cell_type": "code",
   "execution_count": 4,
   "metadata": {},
   "outputs": [
    {
     "name": "stdout",
     "output_type": "stream",
     "text": [
      "iteration=  0 cost=  0.457062\n",
      "iteration=  1000 cost=  0.303673\n",
      "iteration=  2000 cost=  0.255684\n",
      "iteration=  3000 cost=  0.223261\n",
      "iteration=  4000 cost=  0.199176\n",
      "iteration=  5000 cost=  0.180205\n",
      "iteration=  6000 cost=  0.164696\n",
      "iteration=  7000 cost=  0.151696\n",
      "iteration=  8000 cost=  0.140604\n",
      "iteration=  9000 cost=  0.13101\n",
      "iteration=  10000 cost=  0.122621\n",
      "iteration=  11000 cost=  0.115219\n",
      "iteration=  12000 cost=  0.108639\n",
      "Validating output for AND GATE\n",
      "[[ 0.00350105]\n",
      " [ 0.11848825]\n",
      " [ 0.11607921]\n",
      " [ 0.83400267]]\n"
     ]
    }
   ],
   "source": [
    "import tensorflow as tf\n",
    "import numpy as np\n",
    "x=tf.placeholder(tf.float32,shape=[None,2])\n",
    "y=tf.placeholder(tf.float32,shape=[None,1])\n",
    "\n",
    "weights=tf.Variable(tf.random_normal([2,1]),dtype=tf.float32)\n",
    "bias=tf.Variable(tf.random_normal([1]),dtype=tf.float32)\n",
    "\n",
    "\n",
    "\n",
    "multiply1=tf.add(tf.matmul(x,weights),bias)\n",
    "z=tf.nn.sigmoid(multiply1)\n",
    "\n",
    "\n",
    "cost=tf.reduce_mean((y*tf.log(z)+(1-y)*tf.log(1-z))*-1)\n",
    "optimizer = tf.train.GradientDescentOptimizer(0.01).minimize(cost)\n",
    "\n",
    "inp=np.array([[0,0],[0,1],[1,0],[1,1]])\n",
    "op=np.array([[0],[0],[0],[1]])\n",
    "with tf.Session() as sess:\n",
    "   \n",
    "    tf.global_variables_initializer().run()\n",
    "    for i in range(12001):\n",
    "        res,_=sess.run([cost,optimizer],feed_dict={x:inp,y:op})\n",
    "        if i%1000==0:\n",
    "            print (\"iteration= \",i,\"cost= \",res)\n",
    "    print (\"Validating output for AND GATE\")\n",
    "    result=sess.run(z,feed_dict={x:inp})\n",
    "    print (result)"
   ]
  },
  {
   "cell_type": "markdown",
   "metadata": {},
   "source": [
    "# OR gate"
   ]
  },
  {
   "cell_type": "code",
   "execution_count": 3,
   "metadata": {},
   "outputs": [
    {
     "name": "stdout",
     "output_type": "stream",
     "text": [
      "iteration=  0 cost=  0.856719\n",
      "iteration=  1000 cost=  0.329645\n",
      "iteration=  2000 cost=  0.25836\n",
      "iteration=  3000 cost=  0.21155\n",
      "iteration=  4000 cost=  0.178319\n",
      "iteration=  5000 cost=  0.15362\n",
      "iteration=  6000 cost=  0.134604\n",
      "iteration=  7000 cost=  0.119553\n",
      "iteration=  8000 cost=  0.10737\n",
      "iteration=  9000 cost=  0.0973254\n",
      "iteration=  10000 cost=  0.0889155\n",
      "iteration=  11000 cost=  0.0817805\n",
      "iteration=  12000 cost=  0.0756579\n",
      "Validating output for OR GATE\n",
      "[[ 0.15912212]\n",
      " [ 0.93771648]\n",
      " [ 0.93785483]\n",
      " [ 0.9991678 ]]\n"
     ]
    }
   ],
   "source": [
    "import tensorflow as tf\n",
    "import numpy as np\n",
    "\n",
    "x=tf.placeholder(tf.float32,shape=[None,2])\n",
    "y=tf.placeholder(tf.float32,shape=[None,1])\n",
    "\n",
    "weights=tf.Variable(tf.random_normal([2,1]),dtype=tf.float32)\n",
    "bias=tf.Variable(tf.random_normal([1]),dtype=tf.float32)\n",
    "\n",
    "\n",
    "multiply1=tf.add(tf.matmul(x,weights),bias)\n",
    "z=tf.nn.sigmoid(multiply1)\n",
    "\n",
    "\n",
    "cost=tf.reduce_mean((y*tf.log(z)+(1-y)*tf.log(1-z))*-1)\n",
    "optimizer = tf.train.GradientDescentOptimizer(0.01).minimize(cost)\n",
    "\n",
    "inp=np.array([[0,0],[0,1],[1,0],[1,1]])\n",
    "op=np.array([[0],[1],[1],[1]])\n",
    "with tf.Session() as sess:\n",
    "   \n",
    "    tf.global_variables_initializer().run()\n",
    "    for i in range(12001):\n",
    "        res,_=sess.run([cost,optimizer],feed_dict={x:inp,y:op})\n",
    "        if i%1000==0:\n",
    "            print (\"iteration= \",i,\"cost= \",res)\n",
    "    print (\"Validating output for OR GATE\")\n",
    "    result=sess.run(z,feed_dict={x:inp})\n",
    "    print (result)"
   ]
  },
  {
   "cell_type": "markdown",
   "metadata": {},
   "source": [
    "# NAND gate\n"
   ]
  },
  {
   "cell_type": "code",
   "execution_count": 5,
   "metadata": {},
   "outputs": [
    {
     "name": "stdout",
     "output_type": "stream",
     "text": [
      "iteration=  0 cost=  0.666023\n",
      "iteration=  1000 cost=  0.425386\n",
      "iteration=  2000 cost=  0.341137\n",
      "iteration=  3000 cost=  0.287012\n",
      "iteration=  4000 cost=  0.24879\n",
      "iteration=  5000 cost=  0.220038\n",
      "iteration=  6000 cost=  0.197451\n",
      "iteration=  7000 cost=  0.179147\n",
      "iteration=  8000 cost=  0.163966\n",
      "iteration=  9000 cost=  0.151146\n",
      "iteration=  10000 cost=  0.140163\n",
      "iteration=  11000 cost=  0.130642\n",
      "iteration=  12000 cost=  0.122305\n",
      "Validating output for NAND GATE\n",
      "[[ 0.99491984]\n",
      " [ 0.86976033]\n",
      " [ 0.86947554]\n",
      " [ 0.18510209]]\n"
     ]
    }
   ],
   "source": [
    "import tensorflow as tf\n",
    "import numpy as np\n",
    "x=tf.placeholder(tf.float32,shape=[None,2])\n",
    "y=tf.placeholder(tf.float32,shape=[None,1])\n",
    "\n",
    "weights=tf.Variable(tf.random_normal([2,1]),dtype=tf.float32)\n",
    "bias=tf.Variable(tf.random_normal([1]),dtype=tf.float32)\n",
    "\n",
    "\n",
    "\n",
    "multiply1=tf.add(tf.matmul(x,weights),bias)\n",
    "z=tf.nn.sigmoid(multiply1)\n",
    "\n",
    "\n",
    "cost=tf.reduce_mean((y*tf.log(z)+(1-y)*tf.log(1-z))*-1)\n",
    "optimizer = tf.train.GradientDescentOptimizer(0.01).minimize(cost)\n",
    "\n",
    "inp=np.array([[0,0],[0,1],[1,0],[1,1]])\n",
    "op=np.array([[1],[1],[1],[0]])\n",
    "with tf.Session() as sess:\n",
    "   \n",
    "    tf.global_variables_initializer().run()\n",
    "    for i in range(12001):\n",
    "        res,_=sess.run([cost,optimizer],feed_dict={x:inp,y:op})\n",
    "        if i%1000==0:\n",
    "            print (\"iteration= \",i,\"cost= \",res)\n",
    "    print (\"Validating output for NAND GATE\")\n",
    "    result=sess.run(z,feed_dict={x:inp})\n",
    "    print (result)"
   ]
  },
  {
   "cell_type": "code",
   "execution_count": null,
   "metadata": {
    "collapsed": true
   },
   "outputs": [],
   "source": []
  }
 ],
 "metadata": {
  "kernelspec": {
   "display_name": "Python 3",
   "language": "python",
   "name": "python3"
  },
  "language_info": {
   "codemirror_mode": {
    "name": "ipython",
    "version": 3
   },
   "file_extension": ".py",
   "mimetype": "text/x-python",
   "name": "python",
   "nbconvert_exporter": "python",
   "pygments_lexer": "ipython3",
   "version": "3.6.1"
  }
 },
 "nbformat": 4,
 "nbformat_minor": 2
}
