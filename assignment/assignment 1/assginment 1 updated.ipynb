{
 "cells": [
  {
   "cell_type": "code",
   "execution_count": 1,
   "metadata": {},
   "outputs": [
    {
     "name": "stdout",
     "output_type": "stream",
     "text": [
      "27\n"
     ]
    }
   ],
   "source": [
    "import tensorflow as tf\n",
    "with tf.name_scope(\"a\"):\n",
    "    a=tf.constant(1)\n",
    "with tf.name_scope(\"b\"):\n",
    "    b=tf.constant(2)\n",
    "with tf.name_scope(\"c\"):\n",
    "    c=tf.multiply(a,a)\n",
    "with tf.name_scope(\"d\"):\n",
    "    i=tf.multiply(c,a)##a^3\n",
    "with tf.name_scope(\"e\"):\n",
    "    d=tf.multiply(b,b)\n",
    "with tf.name_scope(\"f\"):\n",
    "    j=tf.multiply(d,b)##b^3\n",
    "with tf.name_scope(\"g\"):\n",
    "    e=tf.multiply(a,b)\n",
    "with tf.name_scope(\"h\"):\n",
    "    f=tf.multiply(3,e)##3ab\n",
    "with tf.name_scope(\"i\"):\n",
    "    k=tf.add(a,b)\n",
    "with tf.name_scope(\"j\"):\n",
    "    l=tf.multiply(f,k)##3ab(a+b)\n",
    "with tf.name_scope(\"k\"):\n",
    "    m=tf.add(i,j)\n",
    "with tf.name_scope(\"l\"):\n",
    "    n=tf.add(m,l)\n",
    "\n",
    "\n",
    "with tf.Session() as sess:\n",
    "    writer = tf.summary.FileWriter(\"/tmp/tboard/output278\", sess.graph)\n",
    "    print(sess.run(n))\n",
    "    writer.close()"
   ]
  },
  {
   "cell_type": "code",
   "execution_count": 2,
   "metadata": {},
   "outputs": [
    {
     "name": "stdout",
     "output_type": "stream",
     "text": [
      "9\n"
     ]
    }
   ],
   "source": [
    "import tensorflow as tf\n",
    "with tf.name_scope(\"a\"):\n",
    "    a=tf.constant(1)\n",
    "with tf.name_scope(\"b\"):\n",
    "    b=tf.constant(2)\n",
    "with tf.name_scope(\"c\"):\n",
    "    c=tf.multiply(a,a)\n",
    "with tf.name_scope(\"d\"):\n",
    "    d=tf.multiply(b,b)\n",
    "with tf.name_scope(\"e\"):\n",
    "    e=tf.multiply(a,b)\n",
    "with tf.name_scope(\"f\"):\n",
    "    f=tf.multiply(2,e)\n",
    "with tf.name_scope(\"g\"):\n",
    "    g=tf.add(c,d)\n",
    "with tf.name_scope(\"h\"):\n",
    "    h=tf.add(g,f)\n",
    "\n",
    "\n",
    "with tf.Session() as sess:\n",
    "    writer = tf.summary.FileWriter(\"/tmp/tboard/output\", sess.graph)\n",
    "    print(sess.run(h))\n",
    "    writer.close()\n"
   ]
  },
  {
   "cell_type": "code",
   "execution_count": null,
   "metadata": {
    "collapsed": true
   },
   "outputs": [],
   "source": []
  }
 ],
 "metadata": {
  "kernelspec": {
   "display_name": "Python 3",
   "language": "python",
   "name": "python3"
  },
  "language_info": {
   "codemirror_mode": {
    "name": "ipython",
    "version": 3
   },
   "file_extension": ".py",
   "mimetype": "text/x-python",
   "name": "python",
   "nbconvert_exporter": "python",
   "pygments_lexer": "ipython3",
   "version": "3.6.1"
  }
 },
 "nbformat": 4,
 "nbformat_minor": 2
}
