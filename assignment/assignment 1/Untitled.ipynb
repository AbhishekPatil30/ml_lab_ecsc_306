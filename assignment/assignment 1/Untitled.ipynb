{
 "cells": [
  {
   "cell_type": "code",
   "execution_count": 2,
   "metadata": {},
   "outputs": [
    {
     "name": "stdout",
     "output_type": "stream",
     "text": [
      "9\n"
     ]
    }
   ],
   "source": [
    "import tensorflow as tf\n",
    "a=tf.constant(1)\n",
    "b=tf.constant(2)\n",
    "c=tf.multiply(a,a)\n",
    "d=tf.multiply(b,b)\n",
    "e=tf.multiply(a,b)\n",
    "f=tf.multiply(2,e)\n",
    "g=tf.add(c,d)\n",
    "h=tf.add(g,f)\n",
    "\n",
    "with tf.Session() as sess:\n",
    "    writer = tf.summary.FileWriter(\"/tmp/tboard/output\", sess.graph)\n",
    "    print(sess.run(h))\n",
    "    writer.close()"
   ]
  },
  {
   "cell_type": "code",
   "execution_count": 4,
   "metadata": {},
   "outputs": [
    {
     "name": "stdout",
     "output_type": "stream",
     "text": [
      "27\n"
     ]
    }
   ],
   "source": [
    "import tensorflow as tf\n",
    "a=tf.constant(1)\n",
    "b=tf.constant(2)\n",
    "c=tf.multiply(a,a)\n",
    "i=tf.multiply(c,a)##a^3\n",
    "d=tf.multiply(b,b)\n",
    "j=tf.multiply(d,b)##b^3\n",
    "e=tf.multiply(a,b)\n",
    "f=tf.multiply(3,e)##3ab\n",
    "k=tf.add(a,b)\n",
    "l=tf.multiply(f,k)##3ab(a+b)\n",
    "m=tf.add(i,j)\n",
    "n=tf.add(m,l)\n",
    "\n",
    "with tf.Session() as sess:\n",
    "    writer = tf.summary.FileWriter(\"/tmp/tboard/output278\", sess.graph)\n",
    "    print(sess.run(n))\n",
    "    writer.close()"
   ]
  },
  {
   "cell_type": "code",
   "execution_count": 5,
   "metadata": {},
   "outputs": [
    {
     "name": "stdout",
     "output_type": "stream",
     "text": [
      "63\n"
     ]
    }
   ],
   "source": [
    "\n",
    "\n",
    "### Adding names to the nodes \n",
    "import tensorflow as tf\n",
    "a = tf.add(1, 2, name=\"Add_these_numbers\")\n",
    "b = tf.multiply(a, 3)\n",
    "c = tf.add(4, 5, name=\"And_These_ones\")\n",
    "d = tf.multiply(c, 6, name=\"Multiply_these_numbers\")\n",
    "e = tf.multiply(4, 5, name=\"B_add\")\n",
    "f = tf.div(c, 6, name=\"B_mul\")\n",
    "g = tf.add(b, d)\n",
    "h = tf.multiply(g, f)\n",
    "\n",
    "with tf.Session() as sess:\n",
    "    writer = tf.summary.FileWriter(\"/tmp/tboard/output72\", sess.graph)\n",
    "    print(sess.run(h))\n",
    "    writer.close()\n",
    "\n"
   ]
  },
  {
   "cell_type": "code",
   "execution_count": null,
   "metadata": {
    "collapsed": true
   },
   "outputs": [],
   "source": []
  }
 ],
 "metadata": {
  "kernelspec": {
   "display_name": "Python 3",
   "language": "python",
   "name": "python3"
  },
  "language_info": {
   "codemirror_mode": {
    "name": "ipython",
    "version": 3
   },
   "file_extension": ".py",
   "mimetype": "text/x-python",
   "name": "python",
   "nbconvert_exporter": "python",
   "pygments_lexer": "ipython3",
   "version": "3.6.1"
  }
 },
 "nbformat": 4,
 "nbformat_minor": 2
}
